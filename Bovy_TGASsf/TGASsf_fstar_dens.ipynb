{
 "cells": [
  {
   "cell_type": "code",
   "execution_count": 43,
   "metadata": {
    "collapsed": false
   },
   "outputs": [
    {
     "name": "stdout",
     "output_type": "stream",
     "text": [
      "Populating the interactive namespace from numpy and matplotlib\n"
     ]
    }
   ],
   "source": [
    "import pyfits\n",
    "import math\n",
    "import numpy as np\n",
    "import matplotlib.pyplot as plt\n",
    "import matplotlib.cm as cm\n",
    "from scipy import stats\n",
    "from galpy.util import bovy_coords\n",
    "from galpy.util import bovy_plot\n",
    "from matplotlib.colors import LogNorm\n",
    "import matplotlib.cm as cm\n",
    "import seaborn as sns\n",
    "from StringIO import StringIO\n",
    "from astropy.modeling import models, fitting\n",
    "import pickle\n",
    "%pylab inline"
   ]
  },
  {
   "cell_type": "code",
   "execution_count": 44,
   "metadata": {
    "collapsed": true
   },
   "outputs": [],
   "source": [
    "with open('counts_vert_AthroughF_10bins_wext.sav','rb') as savefile:\n",
    "    all_counts= pickle.load(savefile)\n",
    "    all_counts_unc= pickle.load(savefile)\n",
    "    all_effvol= pickle.load(savefile)\n",
    "all_counts= all_counts[:,:,0]\n",
    "all_counts_unc= all_counts_unc[:,:,0]\n",
    "all_effvol= all_effvol[:,:,0]"
   ]
  },
  {
   "cell_type": "code",
   "execution_count": 45,
   "metadata": {
    "collapsed": false
   },
   "outputs": [],
   "source": [
    "zbins= np.arange(-0.4125,0.425,0.025)\n",
    "zcen=np.arange(-0.4,0.425,0.025)"
   ]
  },
  {
   "cell_type": "code",
   "execution_count": 46,
   "metadata": {
    "collapsed": false
   },
   "outputs": [
    {
     "name": "stdout",
     "output_type": "stream",
     "text": [
      " N zbins, cen, counts= 34 33 33\n"
     ]
    }
   ],
   "source": [
    "print ' N zbins, cen, counts=',len(zbins),len(zcen),len(all_counts[2,:])"
   ]
  },
  {
   "cell_type": "code",
   "execution_count": 62,
   "metadata": {
    "collapsed": false
   },
   "outputs": [
    {
     "name": "stdout",
     "output_type": "stream",
     "text": [
      "zbins= [-0.4125 -0.3875 -0.3625 -0.3375 -0.3125 -0.2875 -0.2625 -0.2375 -0.2125\n",
      " -0.1875 -0.1625 -0.1375 -0.1125 -0.0875 -0.0625 -0.0375 -0.0125  0.0125\n",
      "  0.0375  0.0625  0.0875  0.1125  0.1375  0.1625  0.1875  0.2125  0.2375\n",
      "  0.2625  0.2875  0.3125  0.3375  0.3625  0.3875  0.4125]\n",
      "zcen= [ -4.00000000e-01  -3.75000000e-01  -3.50000000e-01  -3.25000000e-01\n",
      "  -3.00000000e-01  -2.75000000e-01  -2.50000000e-01  -2.25000000e-01\n",
      "  -2.00000000e-01  -1.75000000e-01  -1.50000000e-01  -1.25000000e-01\n",
      "  -1.00000000e-01  -7.50000000e-02  -5.00000000e-02  -2.50000000e-02\n",
      "   3.33066907e-16   2.50000000e-02   5.00000000e-02   7.50000000e-02\n",
      "   1.00000000e-01   1.25000000e-01   1.50000000e-01   1.75000000e-01\n",
      "   2.00000000e-01   2.25000000e-01   2.50000000e-01   2.75000000e-01\n",
      "   3.00000000e-01   3.25000000e-01   3.50000000e-01   3.75000000e-01\n",
      "   4.00000000e-01]\n",
      "all_conts= [ 0.00024865  0.00027095  0.00030687  0.00031754  0.00035981  0.00041121\n",
      "  0.00043823  0.00054571  0.00060936  0.00073626  0.00087547  0.00102178\n",
      "  0.0012104   0.0014982   0.00148869  0.00156003  0.00164187  0.00157866\n",
      "  0.00151065  0.00139479  0.00116509  0.00097409  0.00087708  0.00080708\n",
      "  0.00070003  0.00062173  0.00053718  0.0004785   0.00038727  0.00030937\n",
      "  0.00027088  0.00023797  0.00018653]\n"
     ]
    }
   ],
   "source": [
    "ii=1 # F star\n",
    "print 'zbins=',zbins\n",
    "print 'zcen=',zcen\n",
    "print 'all_conts=',all_counts[ii,:]*1.0e-9"
   ]
  },
  {
   "cell_type": "code",
   "execution_count": 64,
   "metadata": {
    "collapsed": false
   },
   "outputs": [
    {
     "data": {
      "text/plain": [
       "<Container object of 3 artists>"
      ]
     },
     "execution_count": 64,
     "metadata": {},
     "output_type": "execute_result"
    },
    {
     "data": {
      "image/png": "[encoded data removed]",
      "text/plain": [
       "<matplotlib.figure.Figure at 0x121dde1d0>"
      ]
     },
     "metadata": {},
     "output_type": "display_data"
    }
   ],
   "source": [
    "bovy_plot.bovy_plot(zcen,all_counts[ii,:]*1.0e-9,'o',\n",
    "                    xrange=[np.amin(zcen)-0.1,np.amax(zcen)+0.1],\n",
    "                    yrange=[1.0e-4,1.0e-2],semilogy=True,\n",
    "                    xlabel=r'$z\\,(\\mathrm{kpc})$',\n",
    "                    ylabel=r'$\\mathrm{stars}\\,(\\mathrm{kpc}^{-3})$')\n",
    "plt.errorbar(zcen,all_counts[ii,:]*1.0e-9,yerr=all_counts_unc[ii,:]*1.0e-9,marker='None',ls='None')"
   ]
  },
  {
   "cell_type": "code",
   "execution_count": 65,
   "metadata": {
    "collapsed": false
   },
   "outputs": [],
   "source": [
    "good_maxxy= 0.2 # for F stars (see Jo's email)\n",
    "c= all_counts[ii]\n",
    "ec= all_counts_unc[ii]\n",
    "raw= c*all_effvol[ii] # recover the raw counts\n",
    "ef= all_effvol[ii]/(good_maxxy**2.*np.pi*(zbins[1]-zbins[0])) # this is the effective completeness\n",
    "good_dens_indx= (ef > 0.03*np.nanmax(ef))*(c > 0.)*((ef == ef[len(ef)//2])+(ef > 10.**-5.))*(raw > 4.)"
   ]
  },
  {
   "cell_type": "code",
   "execution_count": 66,
   "metadata": {
    "collapsed": false
   },
   "outputs": [
    {
     "name": "stdout",
     "output_type": "stream",
     "text": [
      " good dens N and zcen= 33 [ -4.00000000e-01  -3.75000000e-01  -3.50000000e-01  -3.25000000e-01\n",
      "  -3.00000000e-01  -2.75000000e-01  -2.50000000e-01  -2.25000000e-01\n",
      "  -2.00000000e-01  -1.75000000e-01  -1.50000000e-01  -1.25000000e-01\n",
      "  -1.00000000e-01  -7.50000000e-02  -5.00000000e-02  -2.50000000e-02\n",
      "   3.33066907e-16   2.50000000e-02   5.00000000e-02   7.50000000e-02\n",
      "   1.00000000e-01   1.25000000e-01   1.50000000e-01   1.75000000e-01\n",
      "   2.00000000e-01   2.25000000e-01   2.50000000e-01   2.75000000e-01\n",
      "   3.00000000e-01   3.25000000e-01   3.50000000e-01   3.75000000e-01\n",
      "   4.00000000e-01]\n",
      " density= [ 0.00024865  0.00027095  0.00030687  0.00031754  0.00035981  0.00041121\n",
      "  0.00043823  0.00054571  0.00060936  0.00073626  0.00087547  0.00102178\n",
      "  0.0012104   0.0014982   0.00148869  0.00156003  0.00164187  0.00157866\n",
      "  0.00151065  0.00139479  0.00116509  0.00097409  0.00087708  0.00080708\n",
      "  0.00070003  0.00062173  0.00053718  0.0004785   0.00038727  0.00030937\n",
      "  0.00027088  0.00023797  0.00018653]\n"
     ]
    }
   ],
   "source": [
    "print ' good dens N and zcen=',len(zcen[good_dens_indx]),zcen[good_dens_indx]\n",
    "print ' density=',all_counts[ii]*1.0e-9"
   ]
  },
  {
   "cell_type": "code",
   "execution_count": 69,
   "metadata": {
    "collapsed": false
   },
   "outputs": [
    {
     "data": {
      "text/plain": [
       "<Container object of 3 artists>"
      ]
     },
     "execution_count": 69,
     "metadata": {},
     "output_type": "execute_result"
    },
    {
     "data": {
      "image/png": "[encoded data removed]",
      "text/plain": [
       "<matplotlib.figure.Figure at 0x122aa6250>"
      ]
     },
     "metadata": {},
     "output_type": "display_data"
    }
   ],
   "source": [
    "bovy_plot.bovy_plot(zcen[good_dens_indx],all_counts[ii,good_dens_indx]*1.0e-9,'o',\n",
    "                    xrange=[np.amin(zcen)-0.1,np.amax(zcen)+0.1],\n",
    "                    yrange=[1.0e-4,1.0e-2],semilogy=True,\n",
    "                    xlabel=r'$z\\,(\\mathrm{kpc})$',\n",
    "                    ylabel=r'$\\mathrm{stars}\\,(\\mathrm{kpc}^{-3})$')\n",
    "plt.errorbar(zcen,all_counts[ii,good_dens_indx]*1.0e-9,yerr=all_counts_unc[ii,good_dens_indx]*1.0e-9,marker='None',ls='None')"
   ]
  },
  {
   "cell_type": "code",
   "execution_count": null,
   "metadata": {
    "collapsed": true
   },
   "outputs": [],
   "source": []
  },
  {
   "cell_type": "code",
   "execution_count": null,
   "metadata": {
    "collapsed": true
   },
   "outputs": [],
   "source": []
  }
 ],
 "metadata": {
  "kernelspec": {
   "display_name": "Python 2",
   "language": "python",
   "name": "python2"
  },
  "language_info": {
   "codemirror_mode": {
    "name": "ipython",
    "version": 2
   },
   "file_extension": ".py",
   "mimetype": "text/x-python",
   "name": "python",
   "nbconvert_exporter": "python",
   "pygments_lexer": "ipython2",
   "version": "2.7.6"
  }
 },
 "nbformat": 4,
 "nbformat_minor": 0
}
