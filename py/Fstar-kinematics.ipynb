{
 "cells": [
  {
   "cell_type": "code",
   "execution_count": 1,
   "metadata": {
    "collapsed": false
   },
   "outputs": [
    {
     "data": {
      "text/html": [
       "<script>\n",
       "code_show=true; \n",
       "function code_toggle() {\n",
       " if (code_show){\n",
       " $('div.input').hide();\n",
       " } else {\n",
       " $('div.input').show();\n",
       " }\n",
       " code_show = !code_show\n",
       "} \n",
       "$( document ).ready(code_toggle);\n",
       "</script>\n",
       "<form action=\"javascript:code_toggle()\"><input type=\"submit\" value=\"Click here to toggle on/off the raw code.\"></form>"
      ],
      "text/plain": [
       "<IPython.core.display.HTML object>"
      ]
     },
     "execution_count": 1,
     "metadata": {},
     "output_type": "execute_result"
    }
   ],
   "source": [
    "from IPython.display import HTML\n",
    "\n",
    "HTML('''<script>\n",
    "code_show=true; \n",
    "function code_toggle() {\n",
    " if (code_show){\n",
    " $('div.input').hide();\n",
    " } else {\n",
    " $('div.input').show();\n",
    " }\n",
    " code_show = !code_show\n",
    "} \n",
    "$( document ).ready(code_toggle);\n",
    "</script>\n",
    "<form action=\"javascript:code_toggle()\"><input type=\"submit\" value=\"Click here to toggle on/off the raw code.\"></form>''')"
   ]
  },
  {
   "cell_type": "code",
   "execution_count": 2,
   "metadata": {
    "collapsed": false
   },
   "outputs": [
    {
     "name": "stdout",
     "output_type": "stream",
     "text": [
      "/Users/bovy/anaconda/envs/py27/lib/python2.7/site-packages/matplotlib/__init__.py:878: UserWarning: axes.color_cycle is deprecated and replaced with axes.prop_cycle; please use the latter.\n",
      "  warnings.warn(self.msg_depr % (key, alt_key))\n",
      "\n",
      "Populating the interactive namespace from numpy and matplotlib\n"
     ]
    }
   ],
   "source": [
    "import os\n",
    "import sys\n",
    "sys.path.append(\"/Users/bovy/Repos/tgas-completeness/py/\")\n",
    "import tqdm\n",
    "import numpy\n",
    "import pickle\n",
    "from scipy.stats import skew, skewtest\n",
    "from extreme_deconvolution import extreme_deconvolution\n",
    "import gaia_tools.load, gaia_tools.xmatch\n",
    "from galpy.util import bovy_plot, bovy_coords, save_pickles\n",
    "import effsel # from tgas-completeness\n",
    "from effsel import main_sequence_cut_r\n",
    "%pylab inline\n",
    "import seaborn as sns\n",
    "from matplotlib import cm\n",
    "from matplotlib.ticker import NullFormatter, FuncFormatter, LogFormatter\n",
    "from matplotlib import gridspec\n",
    "import copy\n",
    "save_figures= False\n",
    "numpy.random.seed(3)"
   ]
  },
  {
   "cell_type": "markdown",
   "metadata": {},
   "source": [
    "# The kinematics of local F stars\n",
    "\n",
    "Load the TGAS and 2MASS data that we use, among other things, select F-type stars:"
   ]
  },
  {
   "cell_type": "code",
   "execution_count": 3,
   "metadata": {
    "collapsed": false
   },
   "outputs": [],
   "source": [
    "# Load TGAS and 2MASS\n",
    "tgas= gaia_tools.load.tgas()\n",
    "twomass= gaia_tools.load.twomass()\n",
    "jk= twomass['j_mag']-twomass['k_mag']\n",
    "dm= -5.*numpy.log10(tgas['parallax'])+10.\n",
    "mj= twomass['j_mag']-dm"
   ]
  },
  {
   "cell_type": "markdown",
   "metadata": {},
   "source": [
    "Load the dwarf locus and select TGAS F-type stars with good parallaxes:"
   ]
  },
  {
   "cell_type": "code",
   "execution_count": 4,
   "metadata": {
    "collapsed": false
   },
   "outputs": [
    {
     "name": "stdout",
     "output_type": "stream",
     "text": [
      "Found 103603 F stars in TGAS with good parallaxes\n"
     ]
    }
   ],
   "source": [
    "# Select F stars\n",
    "sp= effsel.load_spectral_types()\n",
    "sptype= 'F'\n",
    "jkmin= (sp['JH']+sp['HK'])[sp['SpT']=='%s0V' % sptype]\n",
    "if sptype == 'M':\n",
    "    jkmax= (sp['JH']+sp['HK'])[sp['SpT']=='%s5V' % sptype]\n",
    "else:\n",
    "    jkmax= (sp['JH']+sp['HK'])[sp['SpT']=='%s9V' % sptype]\n",
    "jmin= main_sequence_cut_r(jkmax)\n",
    "jmax= main_sequence_cut_r(jkmin)\n",
    "good_plx_indx= (tgas['parallax']/tgas['parallax_error'] > 10.)*(jk != 0.)\n",
    "good_sampling= good_plx_indx*(jk > jkmin)*(jk < jkmax)\\\n",
    "                *(mj < main_sequence_cut_r(jk,tight=False,low=True))\\\n",
    "                *(mj > main_sequence_cut_r(jk,tight=False))\n",
    "print(\"Found %i F stars in TGAS with good parallaxes\" % (numpy.sum(good_sampling)))\n",
    "tgas= tgas[good_sampling]\n",
    "twomass= twomass[good_sampling]\n",
    "jk= jk[good_sampling]\n",
    "dm= dm[good_sampling]\n",
    "mj=mj[good_sampling]"
   ]
  },
  {
   "cell_type": "markdown",
   "metadata": {},
   "source": [
    "## Using XD to get $\\sigma_{v_z}$ from the *TGAS* data alone\n",
    "\n",
    "We will determine $\\sigma_{v_z}^2$ from the *TGAS* data alone by, that is, just using the *TGAS* parallaxes and proper motions. This only works close to the plane, because further away the $v_z$ component of the velocity only weakly projects onto the proper motions. First we compute the linear velocity in RA and Dec and propagate the correlated parallax and proper-motion uncertainties to this vector. We then model this vector as being a 2D projection of the 3D velocity distribution in $(v_x,v_y,v_z)$, where we are mainly interested in the $v_z$ component and so we do not have to worry too much about the in-plane $(v_x,v_y)$ velocity distribution."
   ]
  },
  {
   "cell_type": "code",
   "execution_count": 5,
   "metadata": {
    "collapsed": false
   },
   "outputs": [],
   "source": [
    "# Compute XYZ\n",
    "lb= bovy_coords.radec_to_lb(tgas['ra'],tgas['dec'],degree=True,epoch=None)\n",
    "XYZ= bovy_coords.lbd_to_XYZ(lb[:,0],lb[:,1],1./tgas['parallax'],degree=True)"
   ]
  },
  {
   "cell_type": "code",
   "execution_count": 6,
   "metadata": {
    "collapsed": false
   },
   "outputs": [],
   "source": [
    "# Generate vradec\n",
    "vradec= numpy.array([bovy_coords._K/tgas['parallax']*tgas['pmra'],\n",
    "                     bovy_coords._K/tgas['parallax']*tgas['pmdec']])\n",
    "#First calculate the transformation matrix T\n",
    "epoch= None\n",
    "theta,dec_ngp,ra_ngp= bovy_coords.get_epoch_angles(epoch)\n",
    "Tinv= numpy.dot(numpy.array([[numpy.cos(ra_ngp),-numpy.sin(ra_ngp),0.],\n",
    "                             [numpy.sin(ra_ngp),numpy.cos(ra_ngp),0.],\n",
    "                             [0.,0.,1.]]),\n",
    "                numpy.dot(numpy.array([[-numpy.sin(dec_ngp),0.,numpy.cos(dec_ngp)],\n",
    "                                       [0.,1.,0.],\n",
    "                                       [numpy.cos(dec_ngp),0.,numpy.sin(dec_ngp)]]),\n",
    "                          numpy.array([[numpy.cos(theta),numpy.sin(theta),0.],\n",
    "                                       [numpy.sin(theta),-numpy.cos(theta),0.],\n",
    "                                       [0.,0.,1.]])))# Calculate all projection matrices\n",
    "ra= tgas['ra']/180.*numpy.pi\n",
    "dec= tgas['dec']/180.*numpy.pi\n",
    "A1= numpy.array([[numpy.cos(dec),numpy.zeros(len(tgas)),numpy.sin(dec)],\n",
    "                 [numpy.zeros(len(tgas)),numpy.ones(len(tgas)),numpy.zeros(len(tgas))],\n",
    "                 [-numpy.sin(dec),numpy.zeros(len(tgas)),numpy.cos(dec)]])\n",
    "A2= numpy.array([[numpy.cos(ra),numpy.sin(ra),numpy.zeros(len(tgas))],\n",
    "                 [-numpy.sin(ra),numpy.cos(ra),numpy.zeros(len(tgas))],\n",
    "                 [numpy.zeros(len(tgas)),numpy.zeros(len(tgas)),numpy.ones(len(tgas))]])\n",
    "TAinv= numpy.empty((len(tgas),3,3))\n",
    "for jj in range(len(tgas)):\n",
    "    TAinv[jj]= numpy.dot(numpy.dot(A1[:,:,jj],A2[:,:,jj]),Tinv)\n",
    "proj= TAinv[:,1:]"
   ]
  },
  {
   "cell_type": "code",
   "execution_count": 7,
   "metadata": {
    "collapsed": false
   },
   "outputs": [
    {
     "name": "stderr",
     "output_type": "stream",
     "text": []
    }
   ],
   "source": [
    "# Sample from the joint (parallax,proper motion) uncertainty distribution to get the covariance matrix of the vradec\n",
    "nmc= 10001\n",
    "# Need to sample from the (parallax,proper-motion covariance matrix)\n",
    "vradec_cov= numpy.empty((len(tgas),2,2))\n",
    "for ii in tqdm.trange(len(tgas)):\n",
    "    # Construct covariance matrixx\n",
    "    tcov= numpy.zeros((3,3))\n",
    "    tcov[0,0]= tgas['parallax_error'][ii]**2./2. # /2 because of symmetrization below\n",
    "    tcov[1,1]= tgas['pmra_error'][ii]**2./2.\n",
    "    tcov[2,2]= tgas['pmdec_error'][ii]**2./2.\n",
    "    tcov[0,1]= tgas['parallax_pmra_corr'][ii]*tgas['parallax_error'][ii]*tgas['pmra_error'][ii]\n",
    "    tcov[0,2]= tgas['parallax_pmdec_corr'][ii]*tgas['parallax_error'][ii]*tgas['pmdec_error'][ii]\n",
    "    tcov[1,2]= tgas['pmra_pmdec_corr'][ii]*tgas['pmra_error'][ii]*tgas['pmdec_error'][ii]\n",
    "    # symmetrize\n",
    "    tcov= (tcov+tcov.T)\n",
    "    # Cholesky decomp.\n",
    "    L= numpy.linalg.cholesky(tcov)\n",
    "    tsam= numpy.tile((numpy.array([tgas['parallax'][ii],tgas['pmra'][ii],tgas['pmdec'][ii]])),(nmc,1)).T\n",
    "    tsam+= numpy.dot(L,numpy.random.normal(size=(3,nmc)))\n",
    "    tvradec= numpy.array([bovy_coords._K/tsam[0]*tsam[1],\n",
    "                          bovy_coords._K/tsam[0]*tsam[2]])\n",
    "    vradec_cov[ii]= numpy.cov(tvradec)"
   ]
  },
  {
   "cell_type": "markdown",
   "metadata": {},
   "source": [
    "If we use the same bins as those in which we computed the density, we have the following number of stars in each bin:"
   ]
  },
  {
   "cell_type": "code",
   "execution_count": 8,
   "metadata": {
    "collapsed": false
   },
   "outputs": [
    {
     "data": {
      "text/plain": [
       "<matplotlib.text.Text at 0x1029f7e50>"
      ]
     },
     "execution_count": 8,
     "metadata": {},
     "output_type": "execute_result"
    },
    {
     "data": {
      "image/png": "[encoded data removed]",
      "text/plain": [
       "<matplotlib.figure.Figure at 0x11797ab90>"
      ]
     },
     "metadata": {},
     "output_type": "display_data"
    }
   ],
   "source": [
    "zbins= numpy.arange(-0.4125,0.425,0.025)\n",
    "indx= (numpy.fabs(XYZ[:,2]) > -0.4125)\\\n",
    "      *(numpy.fabs(XYZ[:,2]) <= 0.4125)\\\n",
    "      *(numpy.sqrt(XYZ[:,0]**2.+XYZ[:,1]**2.) < 0.2)\n",
    "bovy_plot.bovy_print(axes_labelsize=17.,text_fontsize=12.,xtick_labelsize=15.,ytick_labelsize=15.)\n",
    "_= hist(XYZ[indx,2],bins=zbins)\n",
    "xlabel(r'$Z\\,(\\mathrm{kpc})$')"
   ]
  },
  {
   "cell_type": "markdown",
   "metadata": {},
   "source": [
    "Now we perform an example fit:"
   ]
  },
  {
   "cell_type": "code",
   "execution_count": 9,
   "metadata": {
    "collapsed": false
   },
   "outputs": [],
   "source": [
    "def combined_sig2(amp,mean,covar):\n",
    "    indx= numpy.sqrt(covar) < 30.\n",
    "    tamp= amp[indx]/numpy.sum(amp[indx])\n",
    "    return (numpy.sum(tamp*(covar+mean**2.)[indx])-numpy.sum(tamp*mean[indx])**2.)"
   ]
  },
  {
   "cell_type": "code",
   "execution_count": 10,
   "metadata": {
    "collapsed": false
   },
   "outputs": [
    {
     "name": "stdout",
     "output_type": "stream",
     "text": [
      "('Z/pc:', -49.999999999999659)\n",
      "/Users/bovy/Repos/extreme-deconvolution/py/extreme_deconvolution.py:374: FutureWarning: comparison to `None` will result in an elementwise object comparison in the future.\n",
      "  if projection == None:\n",
      "\n",
      "('lnL', -8.424159243180295)\n",
      "('amp, mean, std. dev.', array([ 0.3276312,  0.6723688]), array([-7.03817248, -7.72725707]), array([ 16.44557343,   7.52963938]))\n",
      "('Combined <v^2>, sqrt(<v^2>):', 126.83497901809923, 11.262103667525851)\n"
     ]
    }
   ],
   "source": [
    "# Fit with mix of Gaussians\n",
    "ii= 14\n",
    "print(\"Z/pc:\",500.*(numpy.roll(zbins,-1)+zbins)[:-1][ii])\n",
    "indx= (XYZ[:,2] > zbins[ii])\\\n",
    "      *(XYZ[:,2] <= zbins[ii+1])\\\n",
    "      *(numpy.sqrt(XYZ[:,0]**2.+XYZ[:,1]**2.) < 0.2)\n",
    "ydata= vradec.T[indx]\n",
    "ycovar= vradec_cov[indx]\n",
    "ngauss= 2\n",
    "initamp= numpy.random.uniform(size=ngauss)\n",
    "initamp/= numpy.sum(initamp)\n",
    "m= numpy.zeros(3)\n",
    "s= numpy.array([40.,40.,20.])\n",
    "initmean= []\n",
    "initcovar= []\n",
    "for ii in range(ngauss):\n",
    "    initmean.append(m+numpy.random.normal(size=3)*s)\n",
    "    initcovar.append(4.*s**2.*numpy.diag(numpy.ones(3)))\n",
    "initcovar= numpy.array(initcovar)\n",
    "initmean= numpy.array(initmean)\n",
    "print(\"lnL\",extreme_deconvolution(ydata,ycovar,initamp,initmean,initcovar,projection=proj[indx]))\n",
    "print(\"amp, mean, std. dev.\",initamp,initmean[:,2],numpy.sqrt(initcovar[:,2,2]))\n",
    "print(\"Combined <v^2>, sqrt(<v^2>):\",combined_sig2(initamp,initmean[:,2],initcovar[:,2,2]),\n",
    "      numpy.sqrt(combined_sig2(initamp,initmean[:,2],initcovar[:,2,2])))"
   ]
  },
  {
   "cell_type": "markdown",
   "metadata": {
    "collapsed": false
   },
   "source": [
    "The following function computes a bootstrap estimate of the uncertainty in $\\sigma_{v_z}$:"
   ]
  },
  {
   "cell_type": "code",
   "execution_count": 11,
   "metadata": {
    "collapsed": true
   },
   "outputs": [],
   "source": [
    "def bootstrap(nboot,vrd,vrd_cov,proj,ngauss=2):\n",
    "    out= numpy.empty(nboot)\n",
    "    for ii in range(nboot):\n",
    "        # Draw w/ replacement\n",
    "        indx= numpy.floor(numpy.random.uniform(size=len(vrd))*len(vrd)).astype('int')\n",
    "        ydata= vrd[indx]\n",
    "        ycovar= vrd_cov[indx]\n",
    "        initamp= numpy.random.uniform(size=ngauss)\n",
    "        initamp/= numpy.sum(initamp)\n",
    "        m= numpy.zeros(3)\n",
    "        s= numpy.array([40.,40.,20.])\n",
    "        initmean= []\n",
    "        initcovar= []\n",
    "        for jj in range(ngauss):\n",
    "            initmean.append(m+numpy.random.normal(size=3)*s)\n",
    "            initcovar.append(4.*s**2.*numpy.diag(numpy.ones(3)))\n",
    "        initcovar= numpy.array(initcovar)\n",
    "        initmean= numpy.array(initmean)\n",
    "        lnL= extreme_deconvolution(ydata,ycovar,initamp,initmean,initcovar,projection=proj[indx])\n",
    "        out[ii]= combined_sig2(initamp,initmean[:,2],initcovar[:,2,2])\n",
    "    return out"
   ]
  },
  {
   "cell_type": "markdown",
   "metadata": {},
   "source": [
    "A test case:"
   ]
  },
  {
   "cell_type": "code",
   "execution_count": 12,
   "metadata": {
    "collapsed": false
   },
   "outputs": [],
   "source": [
    "ii= 7\n",
    "indx= (XYZ[:,2] > zbins[ii])\\\n",
    "      *(XYZ[:,2] <= zbins[ii+1])\\\n",
    "      *(numpy.sqrt(XYZ[:,0]**2.+XYZ[:,1]**2.) < 0.2)\n",
    "b= bootstrap(20,vradec.T[indx],vradec_cov[indx],proj[indx],ngauss=2)"
   ]
  },
  {
   "cell_type": "code",
   "execution_count": 13,
   "metadata": {
    "collapsed": false
   },
   "outputs": [
    {
     "data": {
      "text/plain": [
       "(-0.23749999999999982, 14.108752009032163, 2.6294685400345887)"
      ]
     },
     "execution_count": 13,
     "metadata": {},
     "output_type": "execute_result"
    }
   ],
   "source": [
    "zbins[ii], numpy.mean(numpy.sqrt(b)), numpy.std(numpy.sqrt(b))"
   ]
  },
  {
   "cell_type": "markdown",
   "metadata": {},
   "source": [
    "Now we do the XD fit to each $Z$ bin and compute the uncertainty using bootstrap:"
   ]
  },
  {
   "cell_type": "code",
   "execution_count": 14,
   "metadata": {
    "collapsed": false
   },
   "outputs": [
    {
     "name": "stderr",
     "output_type": "stream",
     "text": []
    }
   ],
   "source": [
    "savefilename= 'Fstar-sigz.sav'\n",
    "if not os.path.exists(savefilename):\n",
    "    zbins= numpy.arange(-0.4125,0.425,0.025)\n",
    "    nboot= 200\n",
    "    nstar= numpy.zeros(len(zbins)-1)-1\n",
    "    sig2z= numpy.zeros(len(zbins)-1)-1\n",
    "    sig2z_err= numpy.zeros(len(zbins)-1)-1\n",
    "    all_sam= numpy.zeros((len(zbins)-1,nboot))-1\n",
    "    ngauss= 2\n",
    "    start= 0\n",
    "else:\n",
    "    with open(savefilename,'rb') as savefile:\n",
    "        out= (pickle.load(savefile),)\n",
    "        while True:\n",
    "            try:\n",
    "                out= out+(pickle.load(savefile),)\n",
    "            except EOFError:\n",
    "                break\n",
    "    zbins,sig2z,sig2z_err,nstar,all_sam,ngauss,nboot,start= out\n",
    "for ii in tqdm.trange(start,len(zbins)-1):\n",
    "    indx= (XYZ[:,2] > zbins[ii])\\\n",
    "           *(XYZ[:,2] <= zbins[ii+1])\\\n",
    "           *(numpy.sqrt(XYZ[:,0]**2.+XYZ[:,1]**2.) < 0.2)\n",
    "    nstar[ii]= numpy.sum(indx)\n",
    "    if numpy.sum(indx) < 30: continue\n",
    "    # Basic XD fit\n",
    "    ydata= vradec.T[indx]\n",
    "    ycovar= numpy.zeros_like(vradec.T)[indx]\n",
    "    initamp= numpy.random.uniform(size=ngauss)\n",
    "    initamp/= numpy.sum(initamp)\n",
    "    m= numpy.zeros(3)\n",
    "    s= numpy.array([40.,40.,20.])\n",
    "    initmean= []\n",
    "    initcovar= []\n",
    "    for jj in range(ngauss):\n",
    "        initmean.append(m+numpy.random.normal(size=3)*s)\n",
    "        initcovar.append(4.*s**2.*numpy.diag(numpy.ones(3)))\n",
    "    initcovar= numpy.array(initcovar)\n",
    "    initmean= numpy.array(initmean)\n",
    "    lnL= extreme_deconvolution(ydata,ycovar,initamp,initmean,initcovar,projection=proj[indx])\n",
    "    sig2z[ii]= combined_sig2(initamp,initmean[:,2],initcovar[:,2,2])\n",
    "    sam= bootstrap(nboot,vradec.T[indx],vradec_cov[indx],proj[indx],ngauss=ngauss)\n",
    "    all_sam[ii]= sam\n",
    "    sig2z_err[ii]= 1.4826*numpy.median(numpy.fabs(sam-numpy.median(sam)))\n",
    "    save_pickles(savefilename,zbins,sig2z,sig2z_err,nstar,all_sam,ngauss,nboot,ii+1)"
   ]
  },
  {
   "cell_type": "code",
   "execution_count": 15,
   "metadata": {
    "collapsed": false
   },
   "outputs": [
    {
     "data": {
      "image/png": "[encoded data removed]",
      "text/plain": [
       "<matplotlib.figure.Figure at 0x117975410>"
      ]
     },
     "metadata": {},
     "output_type": "display_data"
    }
   ],
   "source": [
    "figsize(12,4)\n",
    "subplot(1,2,1)\n",
    "errorbar(500.*(numpy.roll(zbins,-1)+zbins)[:-1],\n",
    "        sig2z,yerr=sig2z_err,ls='None',marker='o')\n",
    "axhline(11.7**2.,ls='--',color='0.65',lw=2.)\n",
    "xlabel(r'$Z\\,(\\mathrm{pc})$')\n",
    "ylabel(r'$\\langle v_z^2 \\rangle\\,(\\mathrm{km^2\\,s}^{-2})$')\n",
    "ylim(0.,400.)\n",
    "xlim(-420,420)\n",
    "subplot(1,2,2)\n",
    "errorbar(500.*(numpy.roll(zbins,-1)+zbins)[:-1],\n",
    "        numpy.sqrt(sig2z),yerr=0.5*sig2z_err/numpy.sqrt(sig2z),ls='None',marker='o')\n",
    "ylim(7.,18.)\n",
    "xlim(-420,420)\n",
    "xlabel(r'$Z\\,(\\mathrm{pc})$')\n",
    "ylabel(r'$\\sqrt{\\langle v_z^2 \\rangle}\\,(\\mathrm{km\\,s}^{-1})$')\n",
    "axhline(11.7,ls='--',color='0.65',lw=2.)\n",
    "tight_layout()"
   ]
  },
  {
   "cell_type": "code",
   "execution_count": null,
   "metadata": {
    "collapsed": true
   },
   "outputs": [],
   "source": []
  }
 ],
 "metadata": {
  "kernelspec": {
   "display_name": "Python 2",
   "language": "python",
   "name": "python2"
  },
  "language_info": {
   "codemirror_mode": {
    "name": "ipython",
    "version": 2
   },
   "file_extension": ".py",
   "mimetype": "text/x-python",
   "name": "python",
   "nbconvert_exporter": "python",
   "pygments_lexer": "ipython2",
   "version": "2.7.10"
  }
 },
 "nbformat": 4,
 "nbformat_minor": 0
}
