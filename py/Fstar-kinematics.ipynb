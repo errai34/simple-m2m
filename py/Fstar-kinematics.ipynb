{
 "cells": [
  {
   "cell_type": "code",
   "execution_count": 1,
   "metadata": {
    "collapsed": false
   },
   "outputs": [
    {
     "data": {
      "text/html": [
       "<script>\n",
       "code_show=true; \n",
       "function code_toggle() {\n",
       " if (code_show){\n",
       " $('div.input').hide();\n",
       " } else {\n",
       " $('div.input').show();\n",
       " }\n",
       " code_show = !code_show\n",
       "} \n",
       "$( document ).ready(code_toggle);\n",
       "</script>\n",
       "<form action=\"javascript:code_toggle()\"><input type=\"submit\" value=\"Click here to toggle on/off the raw code.\"></form>"
      ],
      "text/plain": [
       "<IPython.core.display.HTML object>"
      ]
     },
     "execution_count": 1,
     "metadata": {},
     "output_type": "execute_result"
    }
   ],
   "source": [
    "from IPython.display import HTML\n",
    "\n",
    "HTML('''<script>\n",
    "code_show=true; \n",
    "function code_toggle() {\n",
    " if (code_show){\n",
    " $('div.input').hide();\n",
    " } else {\n",
    " $('div.input').show();\n",
    " }\n",
    " code_show = !code_show\n",
    "} \n",
    "$( document ).ready(code_toggle);\n",
    "</script>\n",
    "<form action=\"javascript:code_toggle()\"><input type=\"submit\" value=\"Click here to toggle on/off the raw code.\"></form>''')"
   ]
  },
  {
   "cell_type": "code",
   "execution_count": 2,
   "metadata": {
    "collapsed": false
   },
   "outputs": [
    {
     "name": "stdout",
     "output_type": "stream",
     "text": [
      "/Users/bovy/anaconda/envs/py27/lib/python2.7/site-packages/matplotlib/__init__.py:878: UserWarning: axes.color_cycle is deprecated and replaced with axes.prop_cycle; please use the latter.\n",
      "  warnings.warn(self.msg_depr % (key, alt_key))\n",
      "\n",
      "Populating the interactive namespace from numpy and matplotlib\n"
     ]
    }
   ],
   "source": [
    "import os\n",
    "import sys\n",
    "sys.path.append(\"/Users/bovy/Repos/tgas-completeness/py/\")\n",
    "import tqdm\n",
    "import numpy\n",
    "from extreme_deconvolution import extreme_deconvolution\n",
    "import gaia_tools.load, gaia_tools.xmatch\n",
    "from galpy.util import bovy_plot, bovy_coords, save_pickles\n",
    "import effsel # from tgas-completeness\n",
    "from effsel import main_sequence_cut_r\n",
    "%pylab inline\n",
    "import seaborn as sns\n",
    "from matplotlib import cm\n",
    "from matplotlib.ticker import NullFormatter, FuncFormatter, LogFormatter\n",
    "from matplotlib import gridspec\n",
    "import copy\n",
    "save_figures= False\n",
    "numpy.random.seed(3)"
   ]
  },
  {
   "cell_type": "markdown",
   "metadata": {},
   "source": [
    "# The kinematics of local F stars\n",
    "\n",
    "Load the TGAS and 2MASS data that we use, among other things, select F-type stars:"
   ]
  },
  {
   "cell_type": "code",
   "execution_count": 3,
   "metadata": {
    "collapsed": false
   },
   "outputs": [],
   "source": [
    "# Load TGAS and 2MASS\n",
    "tgas= gaia_tools.load.tgas()\n",
    "twomass= gaia_tools.load.twomass()\n",
    "jk= twomass['j_mag']-twomass['k_mag']\n",
    "dm= -5.*numpy.log10(tgas['parallax'])+10.\n",
    "mj= twomass['j_mag']-dm"
   ]
  },
  {
   "cell_type": "markdown",
   "metadata": {},
   "source": [
    "Load the dwarf locus and select TGAS F-type stars with good parallaxes:"
   ]
  },
  {
   "cell_type": "code",
   "execution_count": 4,
   "metadata": {
    "collapsed": false
   },
   "outputs": [
    {
     "name": "stdout",
     "output_type": "stream",
     "text": [
      "Found 103603 F stars in TGAS with good parallaxes\n"
     ]
    }
   ],
   "source": [
    "# Select F stars\n",
    "sp= effsel.load_spectral_types()\n",
    "sptype= 'F'\n",
    "jkmin= (sp['JH']+sp['HK'])[sp['SpT']=='%s0V' % sptype]\n",
    "if sptype == 'M':\n",
    "    jkmax= (sp['JH']+sp['HK'])[sp['SpT']=='%s5V' % sptype]\n",
    "else:\n",
    "    jkmax= (sp['JH']+sp['HK'])[sp['SpT']=='%s9V' % sptype]\n",
    "jmin= main_sequence_cut_r(jkmax)\n",
    "jmax= main_sequence_cut_r(jkmin)\n",
    "good_plx_indx= (tgas['parallax']/tgas['parallax_error'] > 10.)*(jk != 0.)\n",
    "good_sampling= good_plx_indx*(jk > jkmin)*(jk < jkmax)\\\n",
    "                *(mj < main_sequence_cut_r(jk,tight=False,low=True))\\\n",
    "                *(mj > main_sequence_cut_r(jk,tight=False))\n",
    "print(\"Found %i F stars in TGAS with good parallaxes\" % (numpy.sum(good_sampling)))\n",
    "tgas= tgas[good_sampling]\n",
    "twomass= twomass[good_sampling]\n",
    "jk= jk[good_sampling]\n",
    "dm= dm[good_sampling]\n",
    "mj=mj[good_sampling]"
   ]
  },
  {
   "cell_type": "code",
   "execution_count": 5,
   "metadata": {
    "collapsed": false
   },
   "outputs": [
    {
     "name": "stdout",
     "output_type": "stream",
     "text": [
      "Found 10509 F stars in TGASxRAVE with good parallaxes\n"
     ]
    }
   ],
   "source": [
    "rave_cat= gaia_tools.load.rave()\n",
    "m1,m2,sep= gaia_tools.xmatch.xmatch(rave_cat,tgas,colRA1='RAdeg',colDec1='DEdeg',colRA2='ra',colDec2='dec',\n",
    "                                    epoch1=2000.,epoch2=2015.,swap=True)\n",
    "rave_cat= rave_cat[m1]\n",
    "tgas= tgas[m2]\n",
    "twomass= twomass[m2]\n",
    "jk= jk[m2]\n",
    "dm= dm[m2]\n",
    "mj= mj[m2]\n",
    "# Exclude stars with |b| <= 25\n",
    "indx= numpy.fabs(tgas['b']) > 25.\n",
    "rave_cat= rave_cat[indx]\n",
    "tgas= tgas[indx]\n",
    "twomass= twomass[indx]\n",
    "jk= jk[indx]\n",
    "dm= dm[indx]\n",
    "mj= mj[indx]\n",
    "print(\"Found %i F stars in TGASxRAVE with good parallaxes\" % (len(tgas)))"
   ]
  },
  {
   "cell_type": "code",
   "execution_count": 6,
   "metadata": {
    "collapsed": false
   },
   "outputs": [],
   "source": [
    "rave_cat['distance']= rave_cat['distance']/1000.\n",
    "rave_cat['edistance']= rave_cat['edistance']/1000.\n",
    "tgas['parallax'][tgas['parallax_error']/tgas['parallax'] > 0.1]= 0.001 # Make sure these get taken out by the distance cut\n",
    "rave_cat['distance'][rave_cat['distance'] == 0.]= 1./tgas['parallax'][rave_cat['distance'] == 0.]\n",
    "rave_cat['edistance'][rave_cat['distance'] == 0.]= rave_cat['distance'][rave_cat['distance'] == 0.]\\\n",
    "                     *tgas['parallax_error'][rave_cat['distance'] == 0.]/tgas['parallax'][rave_cat['distance'] == 0.]"
   ]
  },
  {
   "cell_type": "code",
   "execution_count": 7,
   "metadata": {
    "collapsed": false
   },
   "outputs": [],
   "source": [
    "# Compute XYZUVW for overlap sample\n",
    "lb= bovy_coords.radec_to_lb(tgas['ra'],tgas['dec'],degree=True,epoch=None)\n",
    "XYZ= bovy_coords.lbd_to_XYZ(lb[:,0],lb[:,1],rave_cat['distance'],degree=True)\n",
    "pmllbb= bovy_coords.pmrapmdec_to_pmllpmbb(tgas['pmra'],tgas['pmdec'],\n",
    "                                          tgas['ra'],tgas['dec'],degree=True,epoch=None)\n",
    "vxyz= bovy_coords.vrpmllpmbb_to_vxvyvz(rave_cat['HRV'],pmllbb[:,0],pmllbb[:,1],\n",
    "                                       XYZ[:,0],XYZ[:,1],XYZ[:,2],\n",
    "                                       XYZ=True,degree=True)"
   ]
  },
  {
   "cell_type": "code",
   "execution_count": 8,
   "metadata": {
    "collapsed": false
   },
   "outputs": [],
   "source": [
    "nmc= 1001\n",
    "lbtile= numpy.tile(lb,(nmc,1))\n",
    "XYZ_sam= bovy_coords.lbd_to_XYZ(lbtile[:,0],lbtile[:,1],\n",
    "                                (numpy.atleast_2d(rave_cat['distance']).T\\\n",
    "                                     +numpy.random.normal(size=nmc)\\\n",
    "                                 *numpy.atleast_2d(rave_cat['edistance']).T).T.flatten(),degree=True)\n",
    "ratile= numpy.tile(tgas['ra'],(nmc,1)).flatten()\n",
    "dectile= numpy.tile(tgas['dec'],(nmc,1)).flatten()\n",
    "pmllbb_sam= bovy_coords.pmrapmdec_to_pmllpmbb((numpy.atleast_2d(tgas['pmra']).T+numpy.random.normal(size=nmc)\\\n",
    "                                                  *numpy.atleast_2d(tgas['pmra_error']).T).T.flatten(),\n",
    "                                              (numpy.atleast_2d(tgas['pmdec']).T+numpy.random.normal(size=nmc)\\\n",
    "                                                  *numpy.atleast_2d(tgas['pmdec_error']).T).T.flatten(),\n",
    "                                              ratile,dectile,degree=True,epoch=None)\n",
    "vxyz_sam= bovy_coords.vrpmllpmbb_to_vxvyvz((numpy.atleast_2d(rave_cat['HRV']).T\\\n",
    "                                               +numpy.random.normal(size=nmc)\\\n",
    "                                               *numpy.atleast_2d(rave_cat['eHRV']).T).T.flatten(),\n",
    "                                           pmllbb_sam[:,0],pmllbb_sam[:,1],\n",
    "                                           XYZ_sam[:,0],XYZ_sam[:,1],XYZ_sam[:,2],\n",
    "                                           XYZ=True,degree=True)\n",
    "vxyz_sam= vxyz_sam.reshape((nmc,len(tgas),3))\n",
    "vxyz_err= numpy.std(vxyz_sam,axis=0)\n",
    "vxyz_mean= numpy.mean(vxyz_sam,axis=0)"
   ]
  },
  {
   "cell_type": "code",
   "execution_count": 9,
   "metadata": {
    "collapsed": false
   },
   "outputs": [
    {
     "data": {
      "text/plain": [
       "<matplotlib.text.Text at 0x24d3693d0>"
      ]
     },
     "execution_count": 9,
     "metadata": {},
     "output_type": "execute_result"
    },
    {
     "data": {
      "image/png": "[encoded data removed]",
      "text/plain": [
       "<matplotlib.figure.Figure at 0x24d367fd0>"
      ]
     },
     "metadata": {},
     "output_type": "display_data"
    }
   ],
   "source": [
    "bovy_plot.bovy_print(axes_labelsize=17.,text_fontsize=12.,xtick_labelsize=15.,ytick_labelsize=15.)\n",
    "_= hist(vxyz_err[:,2],bins=31,range=[0.,20.])\n",
    "xlabel(r'$\\sigma_{v_z}\\,(\\mathrm{km\\,s}^{-1})$')"
   ]
  },
  {
   "cell_type": "code",
   "execution_count": 16,
   "metadata": {
    "collapsed": false
   },
   "outputs": [
    {
     "name": "stdout",
     "output_type": "stream",
     "text": [
      "('lnL', -4.102894438786533)\n",
      "('amp, mean, std. dev.', array([ 0.99629718,  0.00370282]), array([  -7.06574868, -224.03328812]), array([  13.25750376,  299.39408931]))\n"
     ]
    },
    {
     "data": {
      "text/plain": [
       "<matplotlib.text.Text at 0x24d3798d0>"
      ]
     },
     "execution_count": 16,
     "metadata": {},
     "output_type": "execute_result"
    },
    {
     "data": {
      "image/png": "[encoded data removed]",
      "text/plain": [
       "<matplotlib.figure.Figure at 0x11a349d90>"
      ]
     },
     "metadata": {},
     "output_type": "display_data"
    }
   ],
   "source": [
    "figsize(6,4)\n",
    "indx= (True-numpy.any(numpy.isnan(vxyz),axis=1))\\\n",
    "    *(rave_cat['distance'] < 0.7)\\\n",
    "    *(numpy.fabs(XYZ[:,2]) < .4)\\\n",
    "    *(numpy.sqrt(XYZ[:,0]**2.+XYZ[:,1]**2.) < 0.2)\\\n",
    "    *(True-numpy.isnan(vxyz_err[:,2]))\n",
    "_= bovy_plot.bovy_hist(vxyz[indx,2],bins=31,range=[-50.,50.],\n",
    "                       histtype='step',lw=2.,normed=True)\n",
    "# Fit with mix of two Gaussians\n",
    "ydata= numpy.atleast_2d(vxyz[indx,2]).T\n",
    "ycovar= vxyz_err[indx,2]**2.\n",
    "ngauss= 2\n",
    "initamp= numpy.ones(ngauss)/ngauss\n",
    "m= numpy.median(vxyz[indx,2])\n",
    "s= 1.4826*numpy.median(numpy.fabs(vxyz[indx,2]-m))\n",
    "initmean= []\n",
    "initcovar= []\n",
    "for ii in range(ngauss):\n",
    "    initmean.append(m+numpy.random.normal()*s)\n",
    "    initcovar.append(4.*s**2.)\n",
    "initmean= numpy.array([initmean]).T\n",
    "initcovar= numpy.array([[initcovar]]).T\n",
    "print(\"lnL\",extreme_deconvolution(ydata,ycovar,initamp,initmean,initcovar))\n",
    "xs= numpy.linspace(-50.,50.,1001)\n",
    "ys= numpy.sum(numpy.atleast_2d(initamp/numpy.sqrt(initcovar[:,0,0])).T\\\n",
    "              *numpy.exp(-0.5*(xs-numpy.atleast_2d(initmean[:,0]).T)**2./numpy.atleast_2d(initcovar[:,0,0]).T),axis=0)\\\n",
    "            /numpy.sqrt(2.*numpy.pi)\n",
    "plot(xs,ys)\n",
    "print(\"amp, mean, std. dev.\",initamp,initmean[:,0],numpy.sqrt(initcovar[:,0,0]))\n",
    "xlabel(r'$v_z\\,(\\mathrm{km\\,s}^{-1})$')"
   ]
  },
  {
   "cell_type": "code",
   "execution_count": null,
   "metadata": {
    "collapsed": true
   },
   "outputs": [],
   "source": []
  }
 ],
 "metadata": {
  "kernelspec": {
   "display_name": "Python 2",
   "language": "python",
   "name": "python2"
  },
  "language_info": {
   "codemirror_mode": {
    "name": "ipython",
    "version": 2
   },
   "file_extension": ".py",
   "mimetype": "text/x-python",
   "name": "python",
   "nbconvert_exporter": "python",
   "pygments_lexer": "ipython2",
   "version": "2.7.10"
  }
 },
 "nbformat": 4,
 "nbformat_minor": 0
}
