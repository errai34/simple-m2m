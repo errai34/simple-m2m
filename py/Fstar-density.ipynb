{
 "cells": [
  {
   "cell_type": "code",
   "execution_count": 1,
   "metadata": {
    "collapsed": false
   },
   "outputs": [
    {
     "data": {
      "text/html": [
       "<script>\n",
       "code_show=true; \n",
       "function code_toggle() {\n",
       " if (code_show){\n",
       " $('div.input').hide();\n",
       " } else {\n",
       " $('div.input').show();\n",
       " }\n",
       " code_show = !code_show\n",
       "} \n",
       "$( document ).ready(code_toggle);\n",
       "</script>\n",
       "<form action=\"javascript:code_toggle()\"><input type=\"submit\" value=\"Click here to toggle on/off the raw code.\"></form>"
      ],
      "text/plain": [
       "<IPython.core.display.HTML object>"
      ]
     },
     "execution_count": 1,
     "metadata": {},
     "output_type": "execute_result"
    }
   ],
   "source": [
    "from IPython.display import HTML\n",
    "\n",
    "HTML('''<script>\n",
    "code_show=true; \n",
    "function code_toggle() {\n",
    " if (code_show){\n",
    " $('div.input').hide();\n",
    " } else {\n",
    " $('div.input').show();\n",
    " }\n",
    " code_show = !code_show\n",
    "} \n",
    "$( document ).ready(code_toggle);\n",
    "</script>\n",
    "<form action=\"javascript:code_toggle()\"><input type=\"submit\" value=\"Click here to toggle on/off the raw code.\"></form>''')"
   ]
  },
  {
   "cell_type": "code",
   "execution_count": 2,
   "metadata": {
    "collapsed": false
   },
   "outputs": [
    {
     "name": "stdout",
     "output_type": "stream",
     "text": [
      "/Users/bovy/anaconda/envs/py27/lib/python2.7/site-packages/matplotlib/__init__.py:878: UserWarning: axes.color_cycle is deprecated and replaced with axes.prop_cycle; please use the latter.\n",
      "  warnings.warn(self.msg_depr % (key, alt_key))\n",
      "\n",
      "Populating the interactive namespace from numpy and matplotlib\n"
     ]
    }
   ],
   "source": [
    "import os\n",
    "import numpy\n",
    "from scipy import special\n",
    "import healpy\n",
    "import fitsio\n",
    "import gaia_tools.load, gaia_tools.select\n",
    "from mwdust import Zero\n",
    "from galpy.util import bovy_plot, bovy_coords\n",
    "%pylab inline\n",
    "from matplotlib.colors import LogNorm\n",
    "import seaborn as sns\n",
    "from matplotlib import cm\n",
    "save_figures= False\n",
    "numpy.random.seed(1)"
   ]
  },
  {
   "cell_type": "markdown",
   "metadata": {},
   "source": [
    "# The density of F stars in *TGAS*\n",
    "\n",
    "First load the *TGAS* data and select F stars:"
   ]
  },
  {
   "cell_type": "code",
   "execution_count": 3,
   "metadata": {
    "collapsed": false
   },
   "outputs": [
    {
     "name": "stdout",
     "output_type": "stream",
     "text": [
      "666582 TGAS F stars\n"
     ]
    }
   ],
   "source": [
    "tgas= gaia_tools.load.tgas()\n",
    "twomass= gaia_tools.load.twomass()\n",
    "jk= twomass['j_mag']-twomass['k_mag']\n",
    "# Select F stars\n",
    "findx= (jk > 0.12)*(jk < 0.32)\n",
    "tgas= tgas[findx]\n",
    "twomass= twomass[findx]\n",
    "jk= jk[findx]\n",
    "mj= twomass['j_mag']+5.*numpy.log10(tgas['parallax'])-10.\n",
    "print(\"%i TGAS F stars\" % (len(tgas)))"
   ]
  },
  {
   "cell_type": "code",
   "execution_count": 4,
   "metadata": {
    "collapsed": false
   },
   "outputs": [
    {
     "name": "stdout",
     "output_type": "stream",
     "text": [
      "('Median color, abs. mag.:', 0.27099991, 2.5105843935896814)\n"
     ]
    }
   ],
   "source": [
    "print(\"Median color, abs. mag.:\",numpy.median(jk[tgas['parallax']/tgas['parallax_error'] > 10.]),\n",
    "      numpy.median(mj[tgas['parallax']/tgas['parallax_error'] > 10.]))"
   ]
  },
  {
   "cell_type": "markdown",
   "metadata": {},
   "source": [
    "Setup the selection and effective-selection function:"
   ]
  },
  {
   "cell_type": "code",
   "execution_count": 5,
   "metadata": {
    "collapsed": true
   },
   "outputs": [],
   "source": [
    "tsf= gaia_tools.select.tgasSelect()\n",
    "dmap_zero= Zero()\n",
    "tesf= gaia_tools.select.tgasEffectiveSelect(tsf,dmap3d=dmap_zero,MJ=2.5,JK=0.27) \n",
    "def bin_func(X,Y,Z,xymin=0.,xymax=0.25,zmin=0.05,zmax=0.15):\n",
    "    xy= numpy.sqrt(X**2.+Y**2.)\n",
    "    out= numpy.zeros_like(X)\n",
    "    out[(xy >= xymin)*(xy < xymax)*(Z >= zmin)*(Z < zmax)]= 1.\n",
    "    return out"
   ]
  },
  {
   "cell_type": "markdown",
   "metadata": {},
   "source": [
    "Compute the effective volume:"
   ]
  },
  {
   "cell_type": "code",
   "execution_count": 6,
   "metadata": {
    "collapsed": false
   },
   "outputs": [],
   "source": [
    "dz= 0.05\n",
    "zs= numpy.arange(-0.3,0.35,dz)\n",
    "effvol= numpy.array([tesf.volume(lambda x,y,z: bin_func(x,y,z,xymax=0.25,zmin=tz-dz/2.,zmax=tz+dz/2.),\n",
    "                                 xyz=True) for tz in zs])"
   ]
  },
  {
   "cell_type": "markdown",
   "metadata": {},
   "source": [
    "Compute the data number counts:"
   ]
  },
  {
   "cell_type": "code",
   "execution_count": 7,
   "metadata": {
    "collapsed": false
   },
   "outputs": [],
   "source": [
    "dataXYZ= bovy_coords.lbd_to_XYZ(tgas['l'],tgas['b'],1./tgas['parallax'],degree=True)\n",
    "xyindx= numpy.sqrt(dataXYZ[:,0]**2.+dataXYZ[:,1]**2.) < 0.25\n",
    "sindx= tsf.determine_statistical(tgas,twomass['j_mag'],twomass['k_mag'])\n",
    "data_counts= numpy.zeros_like(zs)\n",
    "for ii,z in enumerate(zs):\n",
    "    data_counts[ii]= numpy.sum(sindx*xyindx*(dataXYZ[:,2] >= z-dz/2.)*(dataXYZ[:,2] < z+dz/2.))"
   ]
  },
  {
   "cell_type": "markdown",
   "metadata": {},
   "source": [
    "and the vertical density profile is:"
   ]
  },
  {
   "cell_type": "code",
   "execution_count": 8,
   "metadata": {
    "collapsed": false
   },
   "outputs": [
    {
     "data": {
      "text/plain": [
       "<Container object of 3 artists>"
      ]
     },
     "execution_count": 8,
     "metadata": {},
     "output_type": "execute_result"
    },
    {
     "data": {
      "image/png": "[encoded data removed]",
      "text/plain": [
       "<matplotlib.figure.Figure at 0x117a81710>"
      ]
     },
     "metadata": {},
     "output_type": "display_data"
    }
   ],
   "source": [
    "bovy_plot.bovy_plot(zs,data_counts/effvol/10.**9.,'o',\n",
    "                    xrange=[numpy.amin(zs)-0.1,numpy.amax(zs)+0.1],\n",
    "                    yrange=[0.0003,0.004],semilogy=True,\n",
    "                    xlabel=r'$z\\,(\\mathrm{kpc})$',\n",
    "                    ylabel=r'$\\mathrm{stars}\\,(\\mathrm{pc}^{-3})$')\n",
    "pyplot.errorbar(zs,data_counts/effvol/10.**9.,yerr=numpy.sqrt(data_counts)/effvol/10.**9.,marker='None',ls='None')"
   ]
  },
  {
   "cell_type": "markdown",
   "metadata": {},
   "source": [
    "For comparison, the following is the density law that we would find by simply assuming a constant effective volume (here the median of that used above):"
   ]
  },
  {
   "cell_type": "code",
   "execution_count": 9,
   "metadata": {
    "collapsed": false
   },
   "outputs": [
    {
     "data": {
      "text/plain": [
       "[<matplotlib.lines.Line2D at 0x1186e1910>]"
      ]
     },
     "execution_count": 9,
     "metadata": {},
     "output_type": "execute_result"
    },
    {
     "data": {
      "image/png": "[encoded data removed]",
      "text/plain": [
       "<matplotlib.figure.Figure at 0x133882b50>"
      ]
     },
     "metadata": {},
     "output_type": "display_data"
    }
   ],
   "source": [
    "bovy_plot.bovy_plot(zs,data_counts/numpy.median(effvol)/10.**9.,'o',\n",
    "                    xrange=[numpy.amin(zs)-0.1,numpy.amax(zs)+0.1],\n",
    "                    yrange=[0.0003,0.004],semilogy=True,\n",
    "                    xlabel=r'$z\\,(\\mathrm{kpc})$',\n",
    "                    ylabel=r'$\\mathrm{stars}\\,(\\mathrm{pc}^{-3})$')"
   ]
  },
  {
   "cell_type": "markdown",
   "metadata": {},
   "source": [
    "The density data points are:"
   ]
  },
  {
   "cell_type": "code",
   "execution_count": 10,
   "metadata": {
    "collapsed": false
   },
   "outputs": [
    {
     "name": "stdout",
     "output_type": "stream",
     "text": [
      "('Z center:', array([ -3.00000000e-01,  -2.50000000e-01,  -2.00000000e-01,\n",
      "        -1.50000000e-01,  -1.00000000e-01,  -5.00000000e-02,\n",
      "        -5.55111512e-17,   5.00000000e-02,   1.00000000e-01,\n",
      "         1.50000000e-01,   2.00000000e-01,   2.50000000e-01,\n",
      "         3.00000000e-01]))\n",
      "('Number density (1/pc^3):', array([ 0.00051427,  0.00062659,  0.00086333,  0.00115386,  0.00162137,\n",
      "        0.00186571,  0.00213472,  0.00188518,  0.00159593,  0.00121838,\n",
      "        0.00097624,  0.00073776,  0.00054877]))\n"
     ]
    }
   ],
   "source": [
    "print(\"Z center:\",zs)\n",
    "print(\"Number density (1/pc^3):\",data_counts/effvol/10.**9.)"
   ]
  },
  {
   "cell_type": "code",
   "execution_count": null,
   "metadata": {
    "collapsed": true
   },
   "outputs": [],
   "source": []
  }
 ],
 "metadata": {
  "kernelspec": {
   "display_name": "Python 2",
   "language": "python",
   "name": "python2"
  },
  "language_info": {
   "codemirror_mode": {
    "name": "ipython",
    "version": 2
   },
   "file_extension": ".py",
   "mimetype": "text/x-python",
   "name": "python",
   "nbconvert_exporter": "python",
   "pygments_lexer": "ipython2",
   "version": "2.7.10"
  }
 },
 "nbformat": 4,
 "nbformat_minor": 0
}
